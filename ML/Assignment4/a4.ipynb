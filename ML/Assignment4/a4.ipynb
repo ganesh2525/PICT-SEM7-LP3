{
 "cells": [
  {
   "cell_type": "code",
   "execution_count": 7,
   "id": "a0288604-137b-43fa-8be2-8040ea6ec616",
   "metadata": {},
   "outputs": [],
   "source": [
    "import time\n",
    "import seaborn as sns"
   ]
  },
  {
   "cell_type": "code",
   "execution_count": 8,
   "id": "96c8baa8-8ef1-4fc8-9a53-3d187019c8fa",
   "metadata": {},
   "outputs": [],
   "source": [
    "cur_x = 2\n",
    "rate = 0.1\n",
    "precision = 0.000001\n",
    "step_size = 1\n",
    "max_iters = 10000\n",
    "iters = 0\n",
    "df = lambda x:2*(x+3)\n",
    "gd = []"
   ]
  },
  {
   "cell_type": "code",
   "execution_count": 9,
   "id": "5323cd01-67e5-45ef-b7d5-3adbbb426a19",
   "metadata": {},
   "outputs": [
    {
     "name": "stdout",
     "output_type": "stream",
     "text": [
      "Iteration 1 X value is 1.0\n",
      "Iteration 2 X value is 0.19999999999999996\n",
      "Iteration 3 X value is -0.44000000000000017\n",
      "Iteration 4 X value is -0.9520000000000001\n",
      "Iteration 5 X value is -1.3616000000000001\n",
      "Iteration 6 X value is -1.6892800000000001\n",
      "Iteration 7 X value is -1.951424\n",
      "Iteration 8 X value is -2.1611392\n",
      "Iteration 9 X value is -2.32891136\n",
      "Iteration 10 X value is -2.463129088\n",
      "Iteration 11 X value is -2.5705032704\n",
      "Iteration 12 X value is -2.6564026163200003\n",
      "Iteration 13 X value is -2.725122093056\n",
      "Iteration 14 X value is -2.7800976744448\n",
      "Iteration 15 X value is -2.82407813955584\n",
      "Iteration 16 X value is -2.8592625116446717\n",
      "Iteration 17 X value is -2.8874100093157375\n",
      "Iteration 18 X value is -2.90992800745259\n",
      "Iteration 19 X value is -2.927942405962072\n",
      "Iteration 20 X value is -2.9423539247696575\n",
      "Iteration 21 X value is -2.953883139815726\n",
      "Iteration 22 X value is -2.9631065118525806\n",
      "Iteration 23 X value is -2.9704852094820646\n",
      "Iteration 24 X value is -2.9763881675856516\n",
      "Iteration 25 X value is -2.981110534068521\n",
      "Iteration 26 X value is -2.984888427254817\n",
      "Iteration 27 X value is -2.9879107418038537\n",
      "Iteration 28 X value is -2.990328593443083\n",
      "Iteration 29 X value is -2.9922628747544664\n",
      "Iteration 30 X value is -2.993810299803573\n",
      "Iteration 31 X value is -2.995048239842858\n",
      "Iteration 32 X value is -2.9960385918742864\n",
      "Iteration 33 X value is -2.9968308734994293\n",
      "Iteration 34 X value is -2.9974646987995435\n",
      "Iteration 35 X value is -2.997971759039635\n",
      "Iteration 36 X value is -2.998377407231708\n",
      "Iteration 37 X value is -2.998701925785366\n",
      "Iteration 38 X value is -2.998961540628293\n",
      "Iteration 39 X value is -2.9991692325026342\n",
      "Iteration 40 X value is -2.9993353860021075\n",
      "Iteration 41 X value is -2.999468308801686\n",
      "Iteration 42 X value is -2.9995746470413485\n",
      "Iteration 43 X value is -2.9996597176330786\n",
      "Iteration 44 X value is -2.999727774106463\n",
      "Iteration 45 X value is -2.99978221928517\n",
      "Iteration 46 X value is -2.9998257754281363\n",
      "Iteration 47 X value is -2.999860620342509\n",
      "Iteration 48 X value is -2.999888496274007\n",
      "Iteration 49 X value is -2.9999107970192056\n",
      "Iteration 50 X value is -2.9999286376153647\n",
      "Iteration 51 X value is -2.9999429100922916\n",
      "Iteration 52 X value is -2.999954328073833\n",
      "Iteration 53 X value is -2.9999634624590668\n",
      "Iteration 54 X value is -2.9999707699672533\n",
      "Iteration 55 X value is -2.999976615973803\n",
      "Iteration 56 X value is -2.9999812927790424\n",
      "Iteration 57 X value is -2.9999850342232337\n",
      "Iteration 58 X value is -2.999988027378587\n",
      "Iteration 59 X value is -2.9999904219028695\n",
      "Iteration 60 X value is -2.9999923375222957\n",
      "Iteration 61 X value is -2.9999938700178364\n",
      "Iteration 62 X value is -2.999995096014269\n",
      "Iteration 63 X value is -2.9999960768114153\n"
     ]
    }
   ],
   "source": [
    "while step_size > precision and iters < max_iters:\n",
    "    prev_x = cur_x\n",
    "    cur_x = cur_x - rate*df(prev_x)\n",
    "    step_size = abs(cur_x - prev_x)\n",
    "    iters+=1\n",
    "    print(\"Iteration\",iters,\"X value is\",cur_x)\n",
    "    gd.append(cur_x)\n",
    "    time.sleep(0.3)"
   ]
  },
  {
   "cell_type": "code",
   "execution_count": 10,
   "id": "170b9159-39a6-43a8-bd67-4fa661406e94",
   "metadata": {},
   "outputs": [
    {
     "name": "stdout",
     "output_type": "stream",
     "text": [
      "Local minimum occurs at  -2.9999960768114153\n"
     ]
    }
   ],
   "source": [
    "print(\"Local minimum occurs at \",cur_x)"
   ]
  },
  {
   "cell_type": "code",
   "execution_count": 11,
   "id": "2f94d590-4ac6-42ab-b922-410f040b8932",
   "metadata": {},
   "outputs": [
    {
     "data": {
      "text/plain": [
       "<Axes: >"
      ]
     },
     "execution_count": 11,
     "metadata": {},
     "output_type": "execute_result"
    },
    {
     "data": {
      "image/png": "[encoded data removed]",
      "text/plain": [
       "<Figure size 640x480 with 1 Axes>"
      ]
     },
     "metadata": {},
     "output_type": "display_data"
    }
   ],
   "source": [
    "sns.scatterplot(gd)"
   ]
  },
  {
   "cell_type": "code",
   "execution_count": null,
   "id": "9bbfc108-b6b1-4cec-b167-136d45314abf",
   "metadata": {},
   "outputs": [],
   "source": []
  }
 ],
 "metadata": {
  "kernelspec": {
   "display_name": "Python 3 (ipykernel)",
   "language": "python",
   "name": "python3"
  },
  "language_info": {
   "codemirror_mode": {
    "name": "ipython",
    "version": 3
   },
   "file_extension": ".py",
   "mimetype": "text/x-python",
   "name": "python",
   "nbconvert_exporter": "python",
   "pygments_lexer": "ipython3",
   "version": "3.12.3"
  }
 },
 "nbformat": 4,
 "nbformat_minor": 5
}
